{
 "cells": [
  {
   "cell_type": "code",
   "execution_count": null,
   "metadata": {},
   "outputs": [],
   "source": []
  },
  {
   "cell_type": "markdown",
   "metadata": {},
   "source": [
    "Testing 0/1 knapsack with hill climbing and some algos"
   ]
  },
  {
   "cell_type": "code",
   "execution_count": 3,
   "metadata": {},
   "outputs": [],
   "source": [
    "import random\n",
    "\n",
    "# Define the knapsack problem parameters\n",
    "max_weight = 15  # Maximum weight the knapsack can hold\n",
    "items = [\n",
    "    {\"weight\": 2, \"value\": 10},\n",
    "    {\"weight\": 5, \"value\": 20},\n",
    "    {\"weight\": 9, \"value\": 30},\n",
    "    {\"weight\": 1, \"value\": 7},\n",
    "    {\"weight\": 3, \"value\": 15},\n",
    "]"
   ]
  },
  {
   "cell_type": "code",
   "execution_count": 4,
   "metadata": {},
   "outputs": [],
   "source": [
    "# Initialize a random solution (a binary list indicating which items are selected)\n",
    "def initialize_solution():\n",
    "    return [random.randint(0, 1) for _ in items]"
   ]
  },
  {
   "cell_type": "code",
   "execution_count": 5,
   "metadata": {},
   "outputs": [],
   "source": [
    "# Calculate the total value and total weight of a solution\n",
    "def calculate_fitness(solution):\n",
    "    total_value = sum(item[\"value\"] for i, item in enumerate(items) if solution[i] == 1)\n",
    "    total_weight = sum(item[\"weight\"] for i, item in enumerate(items) if solution[i] == 1)\n",
    "    return total_value, total_weight"
   ]
  },
  {
   "cell_type": "code",
   "execution_count": 6,
   "metadata": {},
   "outputs": [],
   "source": [
    "# Hill Climbing Algorithm\n",
    "def hill_climbing(max_iterations):\n",
    "    current_solution = initialize_solution()\n",
    "    current_value, current_weight = calculate_fitness(current_solution)\n",
    "\n",
    "    for _ in range(max_iterations):\n",
    "        neighbor_solution = current_solution.copy()\n",
    "        random_item_index = random.randint(0, len(items) - 1)\n",
    "        neighbor_solution[random_item_index] = 1 - neighbor_solution[random_item_index]  # Flip the item (bcz its selected now/ unselected)\n",
    "\n",
    "        neighbor_value, neighbor_weight = calculate_fitness(neighbor_solution)\n",
    "\n",
    "        if neighbor_weight <= max_weight and neighbor_value > current_value:\n",
    "            current_solution = neighbor_solution\n",
    "            current_value = neighbor_value\n",
    "            current_weight = neighbor_weight\n",
    "\n",
    "    return current_solution, current_value, current_weight\n"
   ]
  },
  {
   "cell_type": "code",
   "execution_count": 18,
   "metadata": {},
   "outputs": [
    {
     "name": "stdout",
     "output_type": "stream",
     "text": [
      "Hill Climbing:\n",
      "Best Solution: [1, 0, 1, 1, 1]\n",
      "Best Value: 62\n",
      "Best Weight: 15\n"
     ]
    }
   ],
   "source": [
    "max_iterations = 1000\n",
    "print(\"Hill Climbing:\")\n",
    "best_solution, best_value, best_weight = hill_climbing(max_iterations)\n",
    "print(\"Best Solution:\", best_solution)\n",
    "print(\"Best Value:\", best_value)\n",
    "print(\"Best Weight:\", best_weight)"
   ]
  },
  {
   "cell_type": "code",
   "execution_count": 20,
   "metadata": {},
   "outputs": [],
   "source": [
    "# Steepest Ascent Hill Climbing Algorithm\n",
    "def steepest_ascent_hill_climbing(max_iterations):\n",
    "    current_solution = initialize_solution()\n",
    "    current_value, current_weight = calculate_fitness(current_solution)\n",
    "\n",
    "    for _ in range(max_iterations):\n",
    "        best_neighbor_solution = None\n",
    "        best_neighbor_value = current_value\n",
    "        best_neighbor_weight = current_weight\n",
    "\n",
    "        for i in range(len(items)):\n",
    "            neighbor_solution = current_solution.copy()\n",
    "            neighbor_solution[i] = 1 - neighbor_solution[i]  # Flip the item\n",
    "\n",
    "            neighbor_value, neighbor_weight = calculate_fitness(neighbor_solution)\n",
    "\n",
    "            if neighbor_weight <= max_weight and neighbor_value > best_neighbor_value:\n",
    "                best_neighbor_solution = neighbor_solution\n",
    "                best_neighbor_value = neighbor_value\n",
    "                best_neighbor_weight = neighbor_weight\n",
    "\n",
    "        if best_neighbor_solution is None:\n",
    "            break\n",
    "\n",
    "        current_solution = best_neighbor_solution\n",
    "        current_value = best_neighbor_value\n",
    "        current_weight = best_neighbor_weight\n",
    "\n",
    "    return current_solution, current_value, current_weight"
   ]
  },
  {
   "cell_type": "code",
   "execution_count": 26,
   "metadata": {},
   "outputs": [
    {
     "name": "stdout",
     "output_type": "stream",
     "text": [
      "Hill Climbing:\n",
      "Best Solution: [1, 0, 1, 1, 1]\n",
      "Best Value: 62\n",
      "Best Weight: 15\n"
     ]
    }
   ],
   "source": [
    "max_iterations = 1000\n",
    "print(\"Hill Climbing:\")\n",
    "best_solution, best_value, best_weight = steepest_ascent_hill_climbing(max_iterations)\n",
    "print(\"Best Solution:\", best_solution)\n",
    "print(\"Best Value:\", best_value)\n",
    "print(\"Best Weight:\", best_weight)"
   ]
  },
  {
   "cell_type": "code",
   "execution_count": null,
   "metadata": {},
   "outputs": [],
   "source": []
  },
  {
   "cell_type": "code",
   "execution_count": null,
   "metadata": {},
   "outputs": [],
   "source": []
  }
 ],
 "metadata": {
  "kernelspec": {
   "display_name": "Python 3",
   "language": "python",
   "name": "python3"
  },
  "language_info": {
   "codemirror_mode": {
    "name": "ipython",
    "version": 3
   },
   "file_extension": ".py",
   "mimetype": "text/x-python",
   "name": "python",
   "nbconvert_exporter": "python",
   "pygments_lexer": "ipython3",
   "version": "3.11.4"
  }
 },
 "nbformat": 4,
 "nbformat_minor": 2
}
