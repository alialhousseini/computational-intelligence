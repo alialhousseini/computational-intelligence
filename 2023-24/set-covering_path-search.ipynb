{
 "cells": [
  {
   "cell_type": "markdown",
   "metadata": {},
   "source": [
    "Copyright **`(c)`** 2023 Giovanni Squillero `<giovanni.squillero@polito.it>`  \n",
    "[`https://github.com/squillero/computational-intelligence`](https://github.com/squillero/computational-intelligence)  \n",
    "Free for personal or classroom use; see [`LICENSE.md`](https://github.com/squillero/computational-intelligence/blob/master/LICENSE.md) for details.  \n",
    "\n",
    "\n",
    "### CHECK CHANGES BELOW "
   ]
  },
  {
   "cell_type": "code",
   "execution_count": 13,
   "metadata": {},
   "outputs": [],
   "source": [
    "from random import random\n",
    "from math import ceil\n",
    "from functools import reduce\n",
    "from collections import namedtuple, deque\n",
    "from queue import PriorityQueue\n",
    "\n",
    "import numpy as np\n",
    "from tqdm.auto import tqdm"
   ]
  },
  {
   "cell_type": "code",
   "execution_count": 71,
   "metadata": {},
   "outputs": [],
   "source": [
    "State = namedtuple('State', ['taken', 'not_taken'])\n",
    "\n",
    "\n",
    "def covered(state):\n",
    "    return reduce(\n",
    "        np.logical_or,\n",
    "        [SETS[i] for i in state.taken],\n",
    "        np.array([False for _ in range(PROBLEM_SIZE)]),\n",
    "    )\n",
    "\n",
    "\n",
    "def goal_check(state):\n",
    "    return np.all(covered(state))"
   ]
  },
  {
   "cell_type": "code",
   "execution_count": 54,
   "metadata": {},
   "outputs": [],
   "source": [
    "PROBLEM_SIZE = 10\n",
    "NUM_SETS = 25\n",
    "SETS = tuple(np.array([random() < 0.2 for _ in range(PROBLEM_SIZE)]) for _ in range(NUM_SETS))\n",
    "assert goal_check(State(set(range(NUM_SETS)), set())), \"Problem not solvable\""
   ]
  },
  {
   "cell_type": "code",
   "execution_count": 55,
   "metadata": {},
   "outputs": [
    {
     "name": "stdout",
     "output_type": "stream",
     "text": [
      "Set 0: [False False False False False False False False  True False]\n",
      "Set 1: [False  True  True False False  True False False False False]\n",
      "Set 2: [False False False False False False False False False False]\n",
      "Set 3: [False False False False  True  True False False False False]\n",
      "Set 4: [False False False False False False False False False False]\n",
      "Set 5: [ True False False  True False  True False  True False  True]\n",
      "Set 6: [ True False False  True  True False False False False False]\n",
      "Set 7: [False  True False False False False False  True False False]\n",
      "Set 8: [False False False False False False False False False False]\n",
      "Set 9: [False  True  True False False False  True  True  True False]\n",
      "Set 10: [False False  True False False False False False False False]\n",
      "Set 11: [False False False False False False  True False False False]\n",
      "Set 12: [False False  True False False False False False False False]\n",
      "Set 13: [False False False False False False  True False False  True]\n",
      "Set 14: [False False  True False  True False  True False False False]\n",
      "Set 15: [False False  True False False  True False False False  True]\n",
      "Set 16: [False  True False False  True False  True False  True False]\n",
      "Set 17: [ True  True False False  True False False  True False  True]\n",
      "Set 18: [False False False False False False False False  True False]\n",
      "Set 19: [False False False False  True False False  True False False]\n",
      "Set 20: [False False False  True False  True False False False False]\n",
      "Set 21: [False False  True False False  True False  True False  True]\n",
      "Set 22: [False False False False  True False False  True False False]\n",
      "Set 23: [False False  True False False  True  True False False False]\n",
      "Set 24: [False False False False False  True False False False False]\n"
     ]
    }
   ],
   "source": [
    "# OUR DATA\n",
    "for i, s in enumerate(SETS):\n",
    "    print(f\"Set {i}: {s}\")"
   ]
  },
  {
   "cell_type": "markdown",
   "metadata": {},
   "source": [
    "## Depth First"
   ]
  },
  {
   "cell_type": "code",
   "execution_count": 57,
   "metadata": {},
   "outputs": [
    {
     "name": "stderr",
     "output_type": "stream",
     "text": [
      "8it [00:00, 7970.17it/s]"
     ]
    },
    {
     "name": "stdout",
     "output_type": "stream",
     "text": [
      "Solved in 8 steps (8 tiles)\n",
      "{17, 18, 19, 20, 21, 22, 23, 24}\n"
     ]
    },
    {
     "name": "stderr",
     "output_type": "stream",
     "text": [
      "\n"
     ]
    }
   ],
   "source": [
    "frontier = deque()\n",
    "state = State(set(), set(range(NUM_SETS)))\n",
    "frontier.append(state)\n",
    "\n",
    "counter = 0\n",
    "current_state = frontier.pop()\n",
    "with tqdm(total=None) as pbar:\n",
    "    while not goal_check(current_state):\n",
    "        counter += 1\n",
    "        for action in current_state[1]:\n",
    "            new_state = State(\n",
    "                current_state.taken ^ {action},\n",
    "                current_state.not_taken ^ {action},\n",
    "            )\n",
    "            frontier.append(new_state)\n",
    "        current_state = frontier.pop()\n",
    "        pbar.update(1)\n",
    "\n",
    "print(f\"Solved in {counter:,} steps ({len(current_state.taken)} tiles)\")\n",
    "print(current_state.taken)\n",
    "# for i in current_state.taken:\n",
    "#     print(SETS[i])"
   ]
  },
  {
   "cell_type": "markdown",
   "metadata": {},
   "source": [
    "## Breadth First"
   ]
  },
  {
   "cell_type": "code",
   "execution_count": 58,
   "metadata": {},
   "outputs": [
    {
     "name": "stderr",
     "output_type": "stream",
     "text": [
      "1284it [00:00, 6478.59it/s]"
     ]
    },
    {
     "name": "stdout",
     "output_type": "stream",
     "text": [
      "Solved in 1,284 steps (3 tiles)\n",
      "{16, 1, 5}\n"
     ]
    },
    {
     "name": "stderr",
     "output_type": "stream",
     "text": [
      "\n"
     ]
    }
   ],
   "source": [
    "frontier = deque()\n",
    "state = State(set(), set(range(NUM_SETS)))\n",
    "frontier.append(state)\n",
    "\n",
    "counter = 0\n",
    "current_state = frontier.popleft()\n",
    "with tqdm(total=None) as pbar:\n",
    "    while not goal_check(current_state):\n",
    "        counter += 1\n",
    "        for action in current_state[1]:\n",
    "            new_state = State(\n",
    "                current_state.taken ^ {action},\n",
    "                current_state.not_taken ^ {action},\n",
    "            )\n",
    "            frontier.append(new_state)\n",
    "        current_state = frontier.popleft()\n",
    "        pbar.update(1)\n",
    "\n",
    "print(f\"Solved in {counter:,} steps ({len(current_state.taken)} tiles)\")\n",
    "print(current_state.taken)\n",
    "# for i in current_state.taken:\n",
    "#     print(SETS[i])"
   ]
  },
  {
   "cell_type": "markdown",
   "metadata": {},
   "source": [
    "## Greedy Best First"
   ]
  },
  {
   "cell_type": "code",
   "execution_count": 59,
   "metadata": {},
   "outputs": [],
   "source": [
    "def f(state):\n",
    "    missing_size = PROBLEM_SIZE - sum(covered(state))\n",
    "    return missing_size"
   ]
  },
  {
   "cell_type": "code",
   "execution_count": 60,
   "metadata": {},
   "outputs": [
    {
     "name": "stderr",
     "output_type": "stream",
     "text": [
      "3it [00:00, 1494.59it/s]"
     ]
    },
    {
     "name": "stdout",
     "output_type": "stream",
     "text": [
      "Solved in 3 steps (3 tiles)\n",
      "{9, 3, 5}\n"
     ]
    },
    {
     "name": "stderr",
     "output_type": "stream",
     "text": [
      "\n"
     ]
    }
   ],
   "source": [
    "frontier = PriorityQueue()\n",
    "state = State(set(), set(range(NUM_SETS)))\n",
    "frontier.put((f(state), state))\n",
    "\n",
    "counter = 0\n",
    "_, current_state = frontier.get()\n",
    "with tqdm(total=None) as pbar:\n",
    "    while not goal_check(current_state):\n",
    "        counter += 1\n",
    "        for action in current_state[1]:\n",
    "            new_state = State(\n",
    "                current_state.taken ^ {action},\n",
    "                current_state.not_taken ^ {action},\n",
    "            )\n",
    "            frontier.put((f(new_state), new_state))\n",
    "        _, current_state = frontier.get()\n",
    "        pbar.update(1)\n",
    "\n",
    "print(f\"Solved in {counter:,} steps ({len(current_state.taken)} tiles)\")\n",
    "print(current_state.taken)\n",
    "# for i in current_state.taken:\n",
    "#     print(SETS[i])"
   ]
  },
  {
   "cell_type": "markdown",
   "metadata": {},
   "source": [
    "### Greedy with more sophisticated heuristic function\n",
    "1. Partially Covered Sets: It calculates the number of sets that partially cover the remaining uncovered elements. This can guide the search towards states that are more likely to lead to a solution.\n",
    "\n",
    "2. Combined Heuristic: Combine this with the existing 'missing size' to get a more informed heuristic. For example, the heuristic could be a weighted sum of the missing size and the number of partially covering sets."
   ]
  },
  {
   "cell_type": "code",
   "execution_count": 61,
   "metadata": {},
   "outputs": [],
   "source": [
    "weight_factor = 1\n",
    "def enhanced_heuristic(state, weight_factor):\n",
    "    covered_elements = covered(state)\n",
    "    uncovered_elements = ~covered_elements\n",
    "    partially_covered_sets = sum(np.logical_and(SETS[i], uncovered_elements).any() for i in state.not_taken)\n",
    "\n",
    "    missing_size = PROBLEM_SIZE - sum(covered_elements)\n",
    "    return missing_size + partially_covered_sets * weight_factor  # weight_factor to be determined"
   ]
  },
  {
   "cell_type": "code",
   "execution_count": 62,
   "metadata": {},
   "outputs": [
    {
     "name": "stderr",
     "output_type": "stream",
     "text": [
      "3it [00:00, 428.44it/s]"
     ]
    },
    {
     "name": "stdout",
     "output_type": "stream",
     "text": [
      "Solved in 3 steps (3 tiles)\n",
      "{9, 3, 5}\n"
     ]
    },
    {
     "name": "stderr",
     "output_type": "stream",
     "text": [
      "\n"
     ]
    }
   ],
   "source": [
    "frontier = PriorityQueue()\n",
    "state = State(set(), set(range(NUM_SETS)))\n",
    "frontier.put((enhanced_heuristic(state, weight_factor), state))\n",
    "\n",
    "counter = 0\n",
    "_, current_state = frontier.get()\n",
    "with tqdm(total=None) as pbar:\n",
    "    while not goal_check(current_state):\n",
    "        counter += 1\n",
    "        for action in current_state[1]:\n",
    "            new_state = State(\n",
    "                current_state.taken ^ {action},\n",
    "                current_state.not_taken ^ {action},\n",
    "            )\n",
    "            frontier.put((enhanced_heuristic(new_state, weight_factor), new_state))\n",
    "        _, current_state = frontier.get()\n",
    "        pbar.update(1)\n",
    "\n",
    "print(f\"Solved in {counter:,} steps ({len(current_state.taken)} tiles)\")\n",
    "print(current_state.taken)\n",
    "# for i in current_state.taken:\n",
    "#     print(SETS[i])"
   ]
  },
  {
   "cell_type": "markdown",
   "metadata": {},
   "source": [
    "Enhancing with partially covering sets outperforms when problem size is large (test it if you don't trust me)\n",
    "\n",
    "### Pruning Redundant Paths\n",
    "To avoid exploring redundant paths, we can keep track of states that have already been visited.\n",
    "\n",
    "1. Visited States: Maintain a set of visited states.\n",
    "2. Check Before Adding to Frontier: Before adding a new state to the frontier, check if it has been visited. If it has, skip adding it."
   ]
  },
  {
   "cell_type": "code",
   "execution_count": 64,
   "metadata": {},
   "outputs": [
    {
     "name": "stderr",
     "output_type": "stream",
     "text": [
      "3it [00:00, 374.59it/s]"
     ]
    },
    {
     "name": "stdout",
     "output_type": "stream",
     "text": [
      "frozenset({9, 3, 5})\n",
      "Solved in 3 steps (3 tiles)\n"
     ]
    },
    {
     "name": "stderr",
     "output_type": "stream",
     "text": [
      "\n"
     ]
    }
   ],
   "source": [
    "wf = 2.3\n",
    "visited_states = set()\n",
    "frontier = PriorityQueue()\n",
    "# transform sets to immutable sets\n",
    "state = State(frozenset(), frozenset(range(NUM_SETS)))\n",
    "frontier.put((enhanced_heuristic(state, wf), state))\n",
    "\n",
    "counter = 0\n",
    "_, current_state = frontier.get()\n",
    "with tqdm(total=None) as pbar:\n",
    "    while not goal_check(current_state):\n",
    "        counter += 1\n",
    "        for action in current_state[1]:\n",
    "            # make it immutable\n",
    "            new_state = State(\n",
    "                frozenset(current_state.taken ^ {action}),\n",
    "                frozenset(current_state.not_taken ^ {action}),\n",
    "            )\n",
    "            # check if we have visited this state before\n",
    "            # this line won't work unless we use immutable sets\n",
    "            if new_state not in visited_states:\n",
    "                visited_states.add(new_state)\n",
    "                frontier.put((enhanced_heuristic(new_state, wf), new_state))\n",
    "        _, current_state = frontier.get()\n",
    "        pbar.update(1)\n",
    "\n",
    "print(current_state.taken)\n",
    "print(f\"Solved in {counter:,} steps ({len(current_state.taken)} tiles)\")"
   ]
  },
  {
   "cell_type": "markdown",
   "metadata": {},
   "source": [
    "## A*"
   ]
  },
  {
   "cell_type": "code",
   "execution_count": 65,
   "metadata": {},
   "outputs": [],
   "source": [
    "def h(state):\n",
    "    largest_set_size = max(sum(s) for s in SETS)\n",
    "    missing_size = PROBLEM_SIZE - sum(covered(state))\n",
    "    optimistic_estimate = ceil(missing_size / largest_set_size)\n",
    "    return optimistic_estimate\n",
    "\n",
    "\n",
    "def h2(state):\n",
    "    already_covered = covered(state)\n",
    "    if np.all(already_covered):\n",
    "        return 0\n",
    "    largest_set_size = max(sum(np.logical_and(s, np.logical_not(already_covered))) for s in SETS)\n",
    "    missing_size = PROBLEM_SIZE - sum(already_covered)\n",
    "    optimistic_estimate = ceil(missing_size / largest_set_size)\n",
    "    return optimistic_estimate\n",
    "\n",
    "\n",
    "def h3(state):\n",
    "    already_covered = covered(state)\n",
    "    if np.all(already_covered):\n",
    "        return 0\n",
    "    missing_size = PROBLEM_SIZE - sum(already_covered)\n",
    "    candidates = sorted((sum(np.logical_and(s, np.logical_not(already_covered))) for s in SETS), reverse=True)\n",
    "    taken = 1\n",
    "    while sum(candidates[:taken]) < missing_size:\n",
    "        taken += 1\n",
    "    return taken\n",
    "\n",
    "\n",
    "def f(state):\n",
    "    return len(state.taken) + h3(state)"
   ]
  },
  {
   "cell_type": "code",
   "execution_count": 66,
   "metadata": {},
   "outputs": [
    {
     "name": "stderr",
     "output_type": "stream",
     "text": [
      "13it [00:00, 232.10it/s]"
     ]
    },
    {
     "name": "stdout",
     "output_type": "stream",
     "text": [
      "{16, 5, 14}\n",
      "Solved in 13 steps (3 tiles)\n"
     ]
    },
    {
     "name": "stderr",
     "output_type": "stream",
     "text": [
      "\n"
     ]
    }
   ],
   "source": [
    "frontier = PriorityQueue()\n",
    "state = State(set(), set(range(NUM_SETS)))\n",
    "frontier.put((f(state), state))\n",
    "\n",
    "counter = 0\n",
    "_, current_state = frontier.get()\n",
    "with tqdm(total=None) as pbar:\n",
    "    while not goal_check(current_state):\n",
    "        counter += 1\n",
    "        for action in current_state[1]:\n",
    "            new_state = State(\n",
    "                current_state.taken ^ {action},\n",
    "                current_state.not_taken ^ {action},\n",
    "            )\n",
    "            frontier.put((f(new_state), new_state))\n",
    "        _, current_state = frontier.get()\n",
    "        pbar.update(1)\n",
    "        \n",
    "print(current_state.taken)\n",
    "print(f\"Solved in {counter:,} steps ({len(current_state.taken)} tiles)\")"
   ]
  },
  {
   "cell_type": "code",
   "execution_count": 67,
   "metadata": {},
   "outputs": [
    {
     "data": {
      "image/png": "[encoded data removed]",
      "text/plain": [
       "<Figure size 1500x1000 with 2 Axes>"
      ]
     },
     "metadata": {},
     "output_type": "display_data"
    }
   ],
   "source": [
    "import pandas as pd\n",
    "import matplotlib.pyplot as plt\n",
    "import seaborn as sns\n",
    "\n",
    "# Creating a DataFrame from the provided data\n",
    "data = {\n",
    "    \"Problem Size\": [5, 7, 10],\n",
    "    \"Num Sets\": [20, 20, 25],\n",
    "    \"DFS Steps\": [11, 12, 8],\n",
    "    \"DFS Tiles\": [11, 12, 8],\n",
    "    \"BFS Steps\": [181, 1227, 1284],\n",
    "    \"BFS Tiles\": [2, 3, 3],\n",
    "    \"Greedy Best First Steps\": [2, 4, 3],\n",
    "    \"Greedy Best First Tiles\": [2, 4, 3],\n",
    "    \"Greedy Best First Enhanced Steps\": [2, 3, 3],\n",
    "    \"Greedy Best First Enhanced Tiles\": [2, 3, 3],\n",
    "    \"A* Steps\": [4, 14, 13],\n",
    "    \"A* Tiles\": [2, 3, 3],\n",
    "}\n",
    "\n",
    "df = pd.DataFrame(data)\n",
    "\n",
    "# Displaying the DataFrame\n",
    "df\n",
    "\n",
    "# Creating visualizations\n",
    "plt.figure(figsize=(15, 10))\n",
    "\n",
    "# Plotting steps taken by each algorithm\n",
    "plt.subplot(2, 1, 1)\n",
    "sns.barplot(x=\"Problem Size\", y=\"value\", hue=\"variable\", data=df.melt(id_vars=[\"Problem Size\", \"Num Sets\"], value_vars=[\"DFS Steps\", \"BFS Steps\", \"Greedy Best First Steps\", \"Greedy Best First Enhanced Steps\", \"A* Steps\"]))\n",
    "plt.title(\"Comparison of Steps Taken by Algorithms\")\n",
    "plt.ylabel(\"Number of Steps\")\n",
    "plt.xlabel(\"Problem Size\")\n",
    "\n",
    "# Plotting tiles used by each algorithm\n",
    "plt.subplot(2, 1, 2)\n",
    "sns.barplot(x=\"Problem Size\", y=\"value\", hue=\"variable\", data=df.melt(id_vars=[\"Problem Size\", \"Num Sets\"], value_vars=[\"DFS Tiles\", \"BFS Tiles\", \"Greedy Best First Tiles\", \"Greedy Best First Enhanced Tiles\", \"A* Tiles\"]))\n",
    "plt.title(\"Comparison of Tiles Used by Algorithms\")\n",
    "plt.ylabel(\"Number of Tiles\")\n",
    "plt.xlabel(\"Problem Size\")\n",
    "\n",
    "plt.tight_layout()\n",
    "plt.show()\n",
    "\n"
   ]
  },
  {
   "cell_type": "markdown",
   "metadata": {},
   "source": [
    "### General Observations\n",
    "<b>DFS:</b> Consistently the least efficient in terms of tile usage, as it doesn't prioritize covering the most elements quickly.\n",
    "\n",
    "<b>BFS:</b> Effective in minimizing tiles but at the cost of a higher number of steps, due to its exhaustive nature.\n",
    "\n",
    "<b>Greedy Best First (Regular and Enhanced):</b> Both are efficient, especially in smaller problems. The enhanced heuristic shows its strength as problem complexity increases.\n",
    "\n",
    "<b>A*:</b> Generally efficient in tile usage, balancing between goal-directed and exploratory search. It often takes more steps than the Greedy approach, likely due to its more comprehensive search strategy.\n",
    "Conclusions\n",
    "\n",
    "### Efficiency vs. Completeness:\n",
    "While DFS and BFS are comprehensive, they aren't always the most efficient, especially in terms of tile usage.\n",
    "\n",
    "<b>Heuristics Play a Key Role:</b> The effectiveness of the Greedy Best First and A* algorithms highlights the importance of a well-designed heuristic.\n",
    "\n",
    "<b>Scalability:</b> The performance of each algorithm varies with problem size, indicating the need for different strategies depending on the scenario."
   ]
  },
  {
   "cell_type": "markdown",
   "metadata": {},
   "source": []
  },
  {
   "cell_type": "markdown",
   "metadata": {},
   "source": [
    "ga"
   ]
  },
  {
   "cell_type": "code",
   "execution_count": 91,
   "metadata": {},
   "outputs": [
    {
     "name": "stdout",
     "output_type": "stream",
     "text": [
      "Best solution: [0 0 0 0 0 1 0 0 0 0 1 0 0 0 0 0 1 0 0 0 0 0 0 0 0]\n"
     ]
    }
   ],
   "source": [
    "def create_individual():\n",
    "    \"\"\"\n",
    "    Creates an individual for the genetic algorithm population.\n",
    "\n",
    "    An individual is represented as a binary array, where each element\n",
    "    corresponds to a set in the set covering problem. A value of 1 means\n",
    "    the set is included in the solution, and 0 means it is not.\n",
    "\n",
    "    Returns:\n",
    "        numpy.ndarray: A binary array representing an individual.\n",
    "    \"\"\"\n",
    "    return np.random.randint(2, size=NUM_SETS)\n",
    "\n",
    "def fitness(individual):\n",
    "    \"\"\"\n",
    "    Calculates the fitness of an individual.\n",
    "\n",
    "    Fitness is defined as the total number of elements covered by the selected\n",
    "    sets minus the number of sets used. This encourages solutions that cover\n",
    "    more elements with fewer sets.\n",
    "\n",
    "    Args:\n",
    "        individual (numpy.ndarray): The individual for which to calculate fitness.\n",
    "\n",
    "    Returns:\n",
    "        int: The fitness value of the individual.\n",
    "    \"\"\"\n",
    "    covered_elements = np.array([False] * PROBLEM_SIZE)\n",
    "    num_sets_used = np.sum(individual)\n",
    "\n",
    "    for i, set_included in enumerate(individual):\n",
    "        if set_included:\n",
    "            covered_elements = np.logical_or(covered_elements, SETS[i])\n",
    "\n",
    "    total_coverage = np.sum(covered_elements)\n",
    "    return total_coverage - num_sets_used\n",
    "\n",
    "\n",
    "def initialize_population(pop_size):\n",
    "    \"\"\"\n",
    "    Initializes the population for the genetic algorithm.\n",
    "\n",
    "    Args:\n",
    "        pop_size (int): The size of the population to generate.\n",
    "\n",
    "    Returns:\n",
    "        list: A list of individuals forming the initial population.\n",
    "    \"\"\"\n",
    "    return [create_individual() for _ in range(pop_size)]\n",
    "\n",
    "\n",
    "def roulette_wheel_selection(population, fitnesses):\n",
    "    \"\"\"\n",
    "    Selects individuals from the population based on roulette wheel selection.\n",
    "\n",
    "    This method gives individuals a selection probability proportional to their\n",
    "    fitness, favoring fitter individuals for reproduction.\n",
    "\n",
    "    Args:\n",
    "        population (list): The current population of individuals.\n",
    "        fitnesses (list): The fitness values of the individuals in the population.\n",
    "\n",
    "    Returns:\n",
    "        list: Two selected individuals for crossover.\n",
    "    \"\"\"\n",
    "    adjusted_fitnesses = [max(f, 0) for f in fitnesses]  # Ensure no negative fitness\n",
    "    total_fitness = sum(adjusted_fitnesses)\n",
    "    \n",
    "    if total_fitness == 0:\n",
    "        return np.random.choice(population, 2)  # Random selection if total fitness is 0\n",
    "\n",
    "    selection_probs = [f / total_fitness for f in adjusted_fitnesses]\n",
    "    chosen_indices = np.random.choice(len(population), 2, p=selection_probs)\n",
    "    return [population[i] for i in chosen_indices]\n",
    "\n",
    "\n",
    "def crossover(parent1, parent2):\n",
    "    \"\"\"\n",
    "    Performs crossover between two parent individuals.\n",
    "\n",
    "    This function uses single-point crossover, where a point is chosen randomly\n",
    "    and the genetic information is exchanged between the parents from that point.\n",
    "\n",
    "    Args:\n",
    "        parent1 (numpy.ndarray): The first parent individual.\n",
    "        parent2 (numpy.ndarray): The second parent individual.\n",
    "\n",
    "    Returns:\n",
    "        tuple: Two new individuals resulting from the crossover.\n",
    "    \"\"\" \n",
    "    point = np.random.randint(NUM_SETS)\n",
    "    child1 = np.concatenate([parent1[:point], parent2[point:]])\n",
    "    child2 = np.concatenate([parent2[:point], parent1[point:]])\n",
    "    return child1, child2\n",
    "\n",
    "def mutate(individual, mutation_rate=0.01):\n",
    "    \"\"\"\n",
    "    Performs mutation on an individual.\n",
    "\n",
    "    Each gene (set inclusion/exclusion) in the individual has a chance of\n",
    "    being flipped (included becomes excluded, and vice versa).\n",
    "\n",
    "    Args:\n",
    "        individual (numpy.ndarray): The individual to mutate.\n",
    "        mutation_rate (float): The probability of each gene undergoing mutation.\n",
    "\n",
    "    Returns:\n",
    "        numpy.ndarray: The mutated individual.\n",
    "    \"\"\"\n",
    "    for i in range(NUM_SETS):\n",
    "        if np.random.rand() < mutation_rate:\n",
    "            individual[i] = 1 - individual[i]\n",
    "    return individual\n",
    "\n",
    "def run_genetic_algorithm(pop_size, max_generations):\n",
    "    \"\"\"\n",
    "    Runs the genetic algorithm.\n",
    "\n",
    "    Args:\n",
    "        pop_size (int): The size of the population.\n",
    "        max_generations (int): The maximum number of generations to run the algorithm.\n",
    "\n",
    "    Returns:\n",
    "        numpy.ndarray: The best solution found by the genetic algorithm.\n",
    "    \"\"\"\n",
    "    population = initialize_population(pop_size)\n",
    "    for generation in range(max_generations):\n",
    "        new_population = []\n",
    "        fitnesses = [fitness(ind) for ind in population]\n",
    "\n",
    "        for _ in range(len(population) // 2):\n",
    "            parent1, parent2 = roulette_wheel_selection(population, fitnesses)\n",
    "            child1, child2 = crossover(parent1, parent2)\n",
    "            new_population.extend([mutate(child1), mutate(child2)])\n",
    "\n",
    "        population = new_population\n",
    "\n",
    "    # Return the best solution\n",
    "    return max(population, key=fitness)\n",
    "\n",
    "best_solution = run_genetic_algorithm(pop_size=100, max_generations=50)\n",
    "print(\"Best solution:\", best_solution)\n",
    "\n",
    "\n",
    "\n"
   ]
  },
  {
   "cell_type": "code",
   "execution_count": 95,
   "metadata": {},
   "outputs": [
    {
     "data": {
      "text/plain": [
       "True"
      ]
     },
     "execution_count": 95,
     "metadata": {},
     "output_type": "execute_result"
    }
   ],
   "source": [
    "coverage = np.array([False] * PROBLEM_SIZE)\n",
    "for i, included in enumerate(best_solution):\n",
    "    if included:\n",
    "        coverage = np.logical_or(coverage, SETS[i])\n",
    "all_covered = np.all(coverage)\n",
    "all_covered"
   ]
  },
  {
   "cell_type": "code",
   "execution_count": null,
   "metadata": {},
   "outputs": [],
   "source": []
  }
 ],
 "metadata": {
  "kernelspec": {
   "display_name": "Python 3 (ipykernel)",
   "language": "python",
   "name": "python3"
  },
  "language_info": {
   "codemirror_mode": {
    "name": "ipython",
    "version": 3
   },
   "file_extension": ".py",
   "mimetype": "text/x-python",
   "name": "python",
   "nbconvert_exporter": "python",
   "pygments_lexer": "ipython3",
   "version": "3.11.4"
  }
 },
 "nbformat": 4,
 "nbformat_minor": 4
}
