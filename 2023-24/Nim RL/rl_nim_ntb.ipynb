{
 "cells": [
  {
   "cell_type": "code",
   "execution_count": 24,
   "metadata": {},
   "outputs": [],
   "source": [
    "import numpy as np\n",
    "import pandas as pd\n",
    "import matplotlib.pyplot as plt\n",
    "\n",
    "df = pd.read_csv('data5AA.csv')"
   ]
  },
  {
   "cell_type": "code",
   "execution_count": 25,
   "metadata": {},
   "outputs": [
    {
     "data": {
      "text/html": [
       "<div>\n",
       "<style scoped>\n",
       "    .dataframe tbody tr th:only-of-type {\n",
       "        vertical-align: middle;\n",
       "    }\n",
       "\n",
       "    .dataframe tbody tr th {\n",
       "        vertical-align: top;\n",
       "    }\n",
       "\n",
       "    .dataframe thead th {\n",
       "        text-align: right;\n",
       "    }\n",
       "</style>\n",
       "<table border=\"1\" class=\"dataframe\">\n",
       "  <thead>\n",
       "    <tr style=\"text-align: right;\">\n",
       "      <th></th>\n",
       "      <th>state</th>\n",
       "      <th>action</th>\n",
       "    </tr>\n",
       "  </thead>\n",
       "  <tbody>\n",
       "    <tr>\n",
       "      <th>0</th>\n",
       "      <td>[1 3 5 7 9]</td>\n",
       "      <td>[4 1]</td>\n",
       "    </tr>\n",
       "    <tr>\n",
       "      <th>1</th>\n",
       "      <td>[1 3 3 7 8]</td>\n",
       "      <td>[4 1]</td>\n",
       "    </tr>\n",
       "    <tr>\n",
       "      <th>2</th>\n",
       "      <td>[1 2 3 7 7]</td>\n",
       "      <td>[4 1]</td>\n",
       "    </tr>\n",
       "    <tr>\n",
       "      <th>3</th>\n",
       "      <td>[1 2 3 0 6]</td>\n",
       "      <td>[4 1]</td>\n",
       "    </tr>\n",
       "    <tr>\n",
       "      <th>4</th>\n",
       "      <td>[1 0 3 0 5]</td>\n",
       "      <td>[4 1]</td>\n",
       "    </tr>\n",
       "  </tbody>\n",
       "</table>\n",
       "</div>"
      ],
      "text/plain": [
       "         state action\n",
       "0  [1 3 5 7 9]  [4 1]\n",
       "1  [1 3 3 7 8]  [4 1]\n",
       "2  [1 2 3 7 7]  [4 1]\n",
       "3  [1 2 3 0 6]  [4 1]\n",
       "4  [1 0 3 0 5]  [4 1]"
      ]
     },
     "execution_count": 25,
     "metadata": {},
     "output_type": "execute_result"
    }
   ],
   "source": [
    "df.head()"
   ]
  },
  {
   "cell_type": "code",
   "execution_count": 26,
   "metadata": {},
   "outputs": [
    {
     "name": "stdout",
     "output_type": "stream",
     "text": [
      "Number of games:  41\n"
     ]
    }
   ],
   "source": [
    "no_of_games = df[df['state']=='[1 3 5 7 9]'].count()[0]\n",
    "print('Number of games: ', no_of_games)"
   ]
  },
  {
   "cell_type": "code",
   "execution_count": 51,
   "metadata": {},
   "outputs": [
    {
     "data": {
      "text/plain": [
       "False"
      ]
     },
     "execution_count": 51,
     "metadata": {},
     "output_type": "execute_result"
    }
   ],
   "source": [
    "import ast\n",
    "def is_nimsum(state, action):\n",
    "    st = ast.literal_eval(state)\n",
    "    act = ast.literal_eval(action)\n",
    "    st[act[0]] -= act[1]\n",
    "    # Calculate the nim-sum\n",
    "    nim_sum = 0\n",
    "    for pile in st:\n",
    "        nim_sum ^= pile\n",
    "\n",
    "    return nim_sum == 0\n",
    "\n",
    "# Example usage\n",
    "piles = '[1, 3, 5, 7]'\n",
    "move = '[2, 3]'  # Removing 3 objects from the third pile (index 2)\n",
    "is_nimsum(piles, move)\n"
   ]
  },
  {
   "cell_type": "code",
   "execution_count": 56,
   "metadata": {},
   "outputs": [
    {
     "name": "stdout",
     "output_type": "stream",
     "text": [
      "Number of games with nim-sum NON zero: 210 out of 311 plays (around 0.68%)\n"
     ]
    }
   ],
   "source": [
    "nimsum_non_zero = 0\n",
    "nimsum_zero = 0\n",
    "for i in range(len(df)):\n",
    "    if df['state'][i] != '[1 3 5 7 9]':\n",
    "        if is_nimsum(df['state'][i].replace(\" \", \", \"), df['action'][i].replace(\" \", \", \")):\n",
    "            nimsum_zero += 1\n",
    "        else:\n",
    "            nimsum_non_zero += 1\n",
    "\n",
    "print(f\"Number of games with nim-sum NON zero: {nimsum_non_zero} out of {len(df)-no_of_games} plays (around {round(nimsum_non_zero/(len(df)-no_of_games),2)}%)\" )"
   ]
  }
 ],
 "metadata": {
  "kernelspec": {
   "display_name": "env",
   "language": "python",
   "name": "python3"
  },
  "language_info": {
   "codemirror_mode": {
    "name": "ipython",
    "version": 3
   },
   "file_extension": ".py",
   "mimetype": "text/x-python",
   "name": "python",
   "nbconvert_exporter": "python",
   "pygments_lexer": "ipython3",
   "version": "3.11.4"
  }
 },
 "nbformat": 4,
 "nbformat_minor": 2
}
